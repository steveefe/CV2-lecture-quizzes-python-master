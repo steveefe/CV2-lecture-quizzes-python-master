{
 "cells": [
  {
   "cell_type": "code",
   "execution_count": null,
   "metadata": {
    "scrolled": true
   },
   "outputs": [],
   "source": [
    "%matplotlib inline\n",
    "import matplotlib.pyplot as plt\n",
    "import cv2\n",
    "import numpy as np\n",
    "\n",
    "\n",
    "# Blend two images\n",
    "def blend(a, b, alpha):\n",
    "    \"\"\" Blends to images using a weight factor.\n",
    "    Args:\n",
    "        a (numpy.array): Image A.\n",
    "        b (numpy.array): Image B.\n",
    "        alpha (float): Weight factor.\n",
    "\n",
    "    Returns:\n",
    "        numpy.array: Blended Image.\n",
    "    \"\"\"\n",
    "    # TODO: Your code here\n",
    "    \n",
    "\n",
    "dolphin = cv2.imread(\"images/dolphin.png\")\n",
    "bicycle = cv2.imread(\"images/bicycle.png\")\n",
    "\n",
    "result = blend(dolphin, bicycle, 0.75)\n",
    "plt.imshow(result.astype(np.uint8))\n",
    "plt.show()"
   ]
  },
  {
   "cell_type": "code",
   "execution_count": null,
   "metadata": {},
   "outputs": [],
   "source": []
  }
 ],
 "metadata": {
  "kernelspec": {
   "display_name": "Python 3",
   "language": "python",
   "name": "python3"
  },
  "language_info": {
   "codemirror_mode": {
    "name": "ipython",
    "version": 3
   },
   "file_extension": ".py",
   "mimetype": "text/x-python",
   "name": "python",
   "nbconvert_exporter": "python",
   "pygments_lexer": "ipython3",
   "version": "3.5.5"
  }
 },
 "nbformat": 4,
 "nbformat_minor": 2
}
