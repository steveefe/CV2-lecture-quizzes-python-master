{
 "cells": [
  {
   "cell_type": "code",
   "execution_count": null,
   "metadata": {},
   "outputs": [],
   "source": [
    "%matplotlib inline\n",
    "import matplotlib.pyplot as plt\n",
    "import cv2\n",
    "import numpy as np\n",
    "\n",
    "\n",
    "# Helper function\n",
    "def imnoise(img_in, method, dens):\n",
    "\n",
    "    if method == 'salt & pepper':\n",
    "        img_out = np.copy(img_in)\n",
    "        r, c = img_in.shape\n",
    "        x = np.random.rand(r, c)\n",
    "        ids = x < dens / 2.\n",
    "        img_out[ids] = 0\n",
    "        ids = dens / 2. <= x\n",
    "        ids &= x < dens\n",
    "        img_out[ids] = 255\n",
    "\n",
    "        return img_out\n",
    "\n",
    "    else:\n",
    "        print(\"Method {} not yet implemented.\").format(method)\n",
    "        exit()\n",
    "\n",
    "# Apply a median filter\n",
    "\n",
    "# Read an image\n",
    "img = cv2.imread('images/moon.png', 0)\n",
    "plt.imshow(cv2.cvtColor(img, cv2.COLOR_BGR2RGB))\n",
    "plt.show()\n"
   ]
  },
  {
   "cell_type": "code",
   "execution_count": null,
   "metadata": {},
   "outputs": [],
   "source": [
    "# TODO: Add salt & pepper noise\n",
    "\n",
    "plt.imshow(cv2.cvtColor(img, cv2.COLOR_BGR2RGB))\n",
    "plt.show()"
   ]
  },
  {
   "cell_type": "code",
   "execution_count": null,
   "metadata": {},
   "outputs": [],
   "source": [
    "# TODO: Apply a median filter. Use cv2.medianBlur\n",
    "\n",
    "plt.imshow(cv2.cvtColor(img, cv2.COLOR_BGR2RGB))\n",
    "plt.show()"
   ]
  },
  {
   "cell_type": "code",
   "execution_count": null,
   "metadata": {},
   "outputs": [],
   "source": []
  }
 ],
 "metadata": {
  "kernelspec": {
   "display_name": "Python 3",
   "language": "python",
   "name": "python3"
  },
  "language_info": {
   "codemirror_mode": {
    "name": "ipython",
    "version": 3
   },
   "file_extension": ".py",
   "mimetype": "text/x-python",
   "name": "python",
   "nbconvert_exporter": "python",
   "pygments_lexer": "ipython3",
   "version": "3.5.5"
  }
 },
 "nbformat": 4,
 "nbformat_minor": 2
}
