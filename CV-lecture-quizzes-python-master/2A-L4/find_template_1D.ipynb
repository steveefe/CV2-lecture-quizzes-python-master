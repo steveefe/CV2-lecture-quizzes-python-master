{
 "cells": [
  {
   "cell_type": "code",
   "execution_count": null,
   "metadata": {},
   "outputs": [],
   "source": [
    "%matplotlib inline\n",
    "import matplotlib.pyplot as plt\n",
    "import numpy as np\n",
    "import scipy.signal as sp\n",
    "\n",
    "\n",
    "def find_template_1D(t, s):\n",
    "    # TODO: Locate template t in signal s and return index. Use scipy.signal.correlate2d\n",
    "    pass\n",
    "\n",
    "s = np.array([[-1, 0, 0, 5, 1, 1, 0, 0, -1, -7, 2, 1, 0, 0, -1]])\n",
    "t = np.array([[-1, -7, 2]])\n",
    "\n",
    "print (\"Signal: \\n {} \\n {}\").format(np.array(range(s.shape[1])), s[0])\n",
    "print (\"Tiemplate: \\n {} \\n {}\").format(np.array(range(t.shape[1])), t[0])\n",
    "\n",
    "index = find_template_1D(t, s)\n",
    "print (\"Index: {}\").format(index)"
   ]
  },
  {
   "cell_type": "code",
   "execution_count": null,
   "metadata": {},
   "outputs": [],
   "source": []
  }
 ],
 "metadata": {
  "kernelspec": {
   "display_name": "Python 3",
   "language": "python",
   "name": "python3"
  },
  "language_info": {
   "codemirror_mode": {
    "name": "ipython",
    "version": 3
   },
   "file_extension": ".py",
   "mimetype": "text/x-python",
   "name": "python",
   "nbconvert_exporter": "python",
   "pygments_lexer": "ipython3",
   "version": "3.5.5"
  }
 },
 "nbformat": 4,
 "nbformat_minor": 2
}
