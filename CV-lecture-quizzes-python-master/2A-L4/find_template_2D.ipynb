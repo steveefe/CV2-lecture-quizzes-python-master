{
 "cells": [
  {
   "cell_type": "code",
   "execution_count": null,
   "metadata": {},
   "outputs": [],
   "source": [
    "%matplotlib inline\n",
    "import matplotlib.pyplot as plt\n",
    "import cv2\n",
    "import numpy as np\n",
    "import scipy.signal as sp\n",
    "\n",
    "\n",
    "# Find template 2D\n",
    "def find_template_2D(template, img):\n",
    "    # TODO: Find template in img and return [y x] location. Make sure this location is the top-left corner of the match.\n",
    "    # Use scipy.signal.correlate2d\n",
    "    pass\n",
    "\n",
    "tablet = cv2.imread('images/tablet.png', 0)\n",
    "plt.imshow(cv2.cvtColor(tablet, cv2.COLOR_BGR2RGB))\n",
    "\n",
    "glyph = tablet[74:165, 149:184]\n",
    "plt.imshow(cv2.cvtColor(glyph, cv2.COLOR_BGR2RGB))\n",
    "\n",
    "tablet_2 = 1. * tablet - np.mean(tablet)\n",
    "glyph_2 = 1. * glyph - np.mean(glyph)\n",
    "\n",
    "y, x = find_template_2D(glyph_2, tablet_2)\n",
    "print(\"Y: {}, X: {}\").format(y, x)\n",
    "\n",
    "# The code below is not part of the quiz but helps to verify the results are\n",
    "# what we are looking for.\n",
    "tablet = cv2.cvtColor(tablet, code=cv2.COLOR_GRAY2BGR)\n",
    "cv2.rectangle(tablet, (x, y), (x + glyph.shape[1], y + glyph.shape[0]),\n",
    "              (0, 0, 255), thickness=2)\n",
    "cv2.imshow('Rectangle', tablet)\n",
    "plt.imshow(cv2.cvtColor(tablet, cv2.COLOR_BGR2RGB))"
   ]
  },
  {
   "cell_type": "code",
   "execution_count": null,
   "metadata": {},
   "outputs": [],
   "source": []
  }
 ],
 "metadata": {
  "kernelspec": {
   "display_name": "Python 3",
   "language": "python",
   "name": "python3"
  },
  "language_info": {
   "codemirror_mode": {
    "name": "ipython",
    "version": 3
   },
   "file_extension": ".py",
   "mimetype": "text/x-python",
   "name": "python",
   "nbconvert_exporter": "python",
   "pygments_lexer": "ipython3",
   "version": "3.5.5"
  }
 },
 "nbformat": 4,
 "nbformat_minor": 2
}
