{
 "cells": [
  {
   "cell_type": "code",
   "execution_count": null,
   "metadata": {},
   "outputs": [],
   "source": [
    "%matplotlib inline\n",
    "import matplotlib.pyplot as plt\n",
    "import cv2\n",
    "import numpy as np\n",
    "\n",
    "\n",
    "def normalize(img_in):\n",
    "    img_out = np.zeros(img_in.shape)\n",
    "    cv2.normalize(img_in, img_out, alpha=0, beta=255, norm_type=cv2.NORM_MINMAX)\n",
    "    return img_out\n",
    "\n",
    "\n",
    "# Gradient Direction\n",
    "def select_gdir(gmag, gdir, mag_min, angle_low, angle_high):\n",
    "    # TODO: Find and return pixels that fall within the desired mag, angle range\n",
    "    return gmag\n",
    "    pass\n",
    "\n",
    "# Load and convert image to double type, range [0, 1] for convenience\n",
    "img = cv2.imread('images/octagon.png', 0) / 255.\n",
    "plt.imshow(img, cmap='gray')\n",
    "plt.show()\n",
    "\n",
    "# Compute x, y gradients\n",
    "gx = cv2.Sobel(img, -1, dx=1, dy=0)\n",
    "gy = cv2.Sobel(img, -1, dx=0, dy=1)\n",
    "plt.imshow(gx, cmap='gray')\n",
    "plt.show()\n",
    "plt.imshow(gy, cmap='gray')\n",
    "plt.show()"
   ]
  },
  {
   "cell_type": "code",
   "execution_count": null,
   "metadata": {},
   "outputs": [],
   "source": [
    "gmag = np.sqrt(gx**2 + gy**2)\n",
    "\n",
    "# The minus sign here is used based on how imgradient is implemented in octave\n",
    "# See https://sourceforge.net/p/octave/image/ci/default/tree/inst/imgradient.m#l61\n",
    "gdir = np.arctan2(-gy, gx) * 180 / np.pi\n",
    "plt.imshow(gmag / (4 * np.sqrt(2)), cmap='gray')\n",
    "plt.show()\n",
    "plt.imshow(normalize(gmag).astype(np.uint8), cmap='gray')\n",
    "plt.show()\n",
    "plt.imshow(normalize(gdir).astype(np.uint8), cmap='gray')"
   ]
  },
  {
   "cell_type": "code",
   "execution_count": null,
   "metadata": {},
   "outputs": [],
   "source": [
    "# Find pixels with desired gradient direction\n",
    "my_grad = select_gdir(gmag, gdir, 1, 30, 60)\n",
    "plt.imshow(my_grad, cmap='gray')"
   ]
  }
 ],
 "metadata": {
  "kernelspec": {
   "display_name": "Python 3",
   "language": "python",
   "name": "python3"
  },
  "language_info": {
   "codemirror_mode": {
    "name": "ipython",
    "version": 3
   },
   "file_extension": ".py",
   "mimetype": "text/x-python",
   "name": "python",
   "nbconvert_exporter": "python",
   "pygments_lexer": "ipython3",
   "version": "3.5.5"
  }
 },
 "nbformat": 4,
 "nbformat_minor": 2
}
