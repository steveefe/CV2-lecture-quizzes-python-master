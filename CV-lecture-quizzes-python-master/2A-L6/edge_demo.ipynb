{
 "cells": [
  {
   "cell_type": "code",
   "execution_count": null,
   "metadata": {},
   "outputs": [],
   "source": [
    "%matplotlib inline\n",
    "import cv2\n",
    "\n",
    "import numpy as np\n",
    "import matplotlib.pyplot as plt\n",
    "\n",
    "from mpl_toolkits.mplot3d import Axes3D\n",
    "\n",
    "\n",
    "def surf(data):\n",
    "    y = np.arange(0, data.shape[0])\n",
    "    x = np.arange(0, data.shape[1])\n",
    "    X, Y = np.meshgrid(x, y)\n",
    "\n",
    "    fig = plt.figure()\n",
    "    ax = fig.gca(projection='3d')\n",
    "\n",
    "    ax.plot_surface(X, Y, data, rstride=1, cstride=1, linewidth=0,\n",
    "                    cmap='jet', antialiased=False)\n",
    "\n",
    "    plt.show(block=False)\n",
    "\n",
    "\n",
    "def LoG(size, sigma):\n",
    "    x = y = np.linspace(-size, size, 2*size+1)\n",
    "    x, y = np.meshgrid(x, y)\n",
    "\n",
    "    f = (x**2 + y**2)/(2*sigma**2)\n",
    "    k = -1./(np.pi * sigma**4) * (1 - f) * np.exp(-f)\n",
    "\n",
    "    return k\n",
    "\n",
    "\n",
    "# Edge demo\n",
    "\n",
    "# Read Lena image\n",
    "lenaL = cv2.imread('images/lena.png')\n",
    "plt.imshow(cv2.cvtColor(lenaL, cv2.COLOR_BGR2RGB))\n",
    "plt.show()"
   ]
  },
  {
   "cell_type": "code",
   "execution_count": null,
   "metadata": {
    "scrolled": false
   },
   "outputs": [],
   "source": [
    "# Convert to monochrome (grayscale) using BGR2GRAY.\n",
    "lenaMono = None # TODO: change this line with the call to cv2.cvtColor\n",
    "plt.imshow(lenaMono, cmap='gray')"
   ]
  },
  {
   "cell_type": "code",
   "execution_count": null,
   "metadata": {},
   "outputs": [],
   "source": [
    "# Make a blurred/smoothed version. Use cv2.getGaussianKernel to get the h kernel\n",
    "h = None  # TODO: change this line with the call to cv2.getGaussianKernel\n",
    "\n",
    "print (h)\n",
    "\n",
    "# Mimic Matlab's surf(h)\n",
    "surf(h)\n",
    "\n",
    "# Use cv2.filter2D with BORDER_CONSTANT to get results similar to the Matlab demo\n",
    "lenaSmooth = None  # TODO: use cv2.filter2D\n",
    "plt.imshow(lenaSmooth, cmap='gray')\n",
    "plt.show()"
   ]
  },
  {
   "cell_type": "code",
   "execution_count": null,
   "metadata": {},
   "outputs": [],
   "source": [
    "# Method 1: Shift left and right, and show diff image\n",
    "lenaL = np.copy(lenaSmooth)  # Let's use np.copy to avoid modifying the original array\n",
    "# TODO: use numpy indexing to copy and paste the array to the right position\n",
    "\n",
    "lenaR = np.copy(lenaSmooth)  # Let's use np.copy to avoid modifying the original array\n",
    "# TODO: use numpy indexing to copy and paste the array to the right position\n",
    "\n",
    "# TODO: Subtract lenaL from lenaR. Don't forget about using the correct data type\n",
    "lenaDiff = None  # Change this line with the answer\n",
    "\n",
    "# Here we shift the value range to fit [0, 255] and make sure the data type is uint8 in order to display the results.\n",
    "lenaDiff = cv2.normalize(lenaDiff, alpha=0, beta=255, norm_type=cv2.NORM_MINMAX)\n",
    "plt.imshow(lenaDiff, cmap='gray')"
   ]
  },
  {
   "cell_type": "code",
   "execution_count": null,
   "metadata": {},
   "outputs": [],
   "source": [
    "# Method 2: Canny edge detector\n",
    "# OpenCV doesn't have a function similar to edge but it does have a Canny Edge detector\n",
    "# OpenCV needs you to specify low and high threshold values. While these are not the\n",
    "# exactly the same as the ones used in the demo you should refer to the lines below\n",
    "# as a reference on how cv2.Canny works\n",
    "thresh1 = 110\n",
    "thresh2 = 60\n",
    "\n",
    "cannyEdges = None  # TODO: use cv2.Canny with lenaMono and the thresholds defined above\n",
    "plt.imshow(cannyEdges, cmap='gray')\n",
    "plt.show()\n",
    "\n",
    "cannyEdges = None  # TODO: use cv2.Canny with lenaSmooth and the thresholds defined above\n",
    "plt.imshow(cannyEdges, cmap='gray')\n",
    "plt.show()"
   ]
  },
  {
   "cell_type": "code",
   "execution_count": null,
   "metadata": {},
   "outputs": [],
   "source": [
    "# Method 3: Laplacian of Gaussian\n",
    "h = LoG(4, 1.)\n",
    "surf(h)\n",
    "\n",
    "# Let's use cv2.filter2D with the new h\n",
    "logEdges = None  # TODO: use cv2.filter2D\n",
    "logEdgesShow = cv2.normalize(logEdges, alpha=0, beta=255, norm_type=cv2.NORM_MINMAX)\n",
    "\n",
    "plt.imshow(logEdgesShow, cmap='gray')\n",
    "plt.title('Laplacian image before zero crossing')\n",
    "plt.show()\n",
    "\n",
    "# OpenCV doesn't have a function edge like Matlab that implements a 'log' method. This would\n",
    "# have to be implemented from scratch. This may take a little more time to implement this :)."
   ]
  }
 ],
 "metadata": {
  "kernelspec": {
   "display_name": "Python 3",
   "language": "python",
   "name": "python3"
  },
  "language_info": {
   "codemirror_mode": {
    "name": "ipython",
    "version": 3
   },
   "file_extension": ".py",
   "mimetype": "text/x-python",
   "name": "python",
   "nbconvert_exporter": "python",
   "pygments_lexer": "ipython3",
   "version": "3.5.5"
  }
 },
 "nbformat": 4,
 "nbformat_minor": 2
}
