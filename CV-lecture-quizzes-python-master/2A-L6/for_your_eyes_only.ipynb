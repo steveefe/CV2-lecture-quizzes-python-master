{
 "cells": [
  {
   "cell_type": "code",
   "execution_count": null,
   "metadata": {},
   "outputs": [],
   "source": [
    "%matplotlib inline\n",
    "import matplotlib.pyplot as plt\n",
    "import cv2\n",
    "import numpy as np\n",
    "\n",
    "\n",
    "# For Your Eyes Only\n",
    "frizzy = cv2.imread('images/frizzy.png')\n",
    "froomer = cv2.imread('images/froomer.png')\n",
    "plt.imshow(cv2.cvtColor(frizzy, cv2.COLOR_BGR2RGB))\n",
    "plt.show()\n",
    "plt.imshow(cv2.cvtColor(froomer, cv2.COLOR_BGR2RGB))"
   ]
  },
  {
   "cell_type": "code",
   "execution_count": null,
   "metadata": {},
   "outputs": [],
   "source": [
    "# TODO: Find edges in frizzy and froomer images\n",
    "\n",
    "\n",
    "\n",
    "plt.imshow(cv2.cvtColor(frizzy, cv2.COLOR_BGR2RGB))\n",
    "plt.show()\n",
    "plt.imshow(cv2.cvtColor(froomer, cv2.COLOR_BGR2RGB))"
   ]
  },
  {
   "cell_type": "code",
   "execution_count": null,
   "metadata": {},
   "outputs": [],
   "source": [
    "# TODO: Display common edge pixels\n",
    "\n",
    "\n",
    "\n",
    "plt.imshow(cv2.cvtColor(frizzy, cv2.COLOR_BGR2RGB))\n",
    "plt.show()\n",
    "plt.imshow(cv2.cvtColor(froomer, cv2.COLOR_BGR2RGB))"
   ]
  }
 ],
 "metadata": {
  "kernelspec": {
   "display_name": "Python 3",
   "language": "python",
   "name": "python3"
  },
  "language_info": {
   "codemirror_mode": {
    "name": "ipython",
    "version": 3
   },
   "file_extension": ".py",
   "mimetype": "text/x-python",
   "name": "python",
   "nbconvert_exporter": "python",
   "pygments_lexer": "ipython3",
   "version": "3.5.5"
  }
 },
 "nbformat": 4,
 "nbformat_minor": 2
}
