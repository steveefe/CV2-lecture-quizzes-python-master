{
 "cells": [
  {
   "cell_type": "code",
   "execution_count": null,
   "metadata": {},
   "outputs": [],
   "source": [
    "%matplotlib inline\n",
    "import matplotlib.pyplot as plt\n",
    "import cv2\n",
    "import numpy as np\n",
    "\n",
    "# Project a point from 3D to 2D using a matrix operation\n",
    "\n",
    "# Given: Point p in 3-space [x y z], and focal length f\n",
    "# Return: Location of projected point on 2D image plane [u v]\n",
    "\n",
    "\n",
    "def project_point(p, f):\n",
    "    # TODO: Define and apply projection matrix\n",
    "    pass\n",
    "\n",
    "# Test: Given point and focal length (units: mm)\n",
    "p = np.array([[200, 100, 120]])\n",
    "f = 50\n",
    "\n",
    "print (project_point(p, f))"
   ]
  }
 ],
 "metadata": {
  "kernelspec": {
   "display_name": "Python 3",
   "language": "python",
   "name": "python3"
  },
  "language_info": {
   "codemirror_mode": {
    "name": "ipython",
    "version": 3
   },
   "file_extension": ".py",
   "mimetype": "text/x-python",
   "name": "python",
   "nbconvert_exporter": "python",
   "pygments_lexer": "ipython3",
   "version": "3.5.5"
  }
 },
 "nbformat": 4,
 "nbformat_minor": 2
}
