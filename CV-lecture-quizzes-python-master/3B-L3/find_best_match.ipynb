{
 "cells": [
  {
   "cell_type": "code",
   "execution_count": null,
   "metadata": {},
   "outputs": [],
   "source": [
    "%matplotlib inline\n",
    "import matplotlib.pyplot as plt\n",
    "import cv2\n",
    "import numpy as np\n",
    "\n",
    "\n",
    "# Test code:\n",
    "\n",
    "# Load images\n",
    "left = cv2.imread('images/flowers-left.png')\n",
    "right = cv2.imread('images/flowers-right.png')\n",
    "plt.imshow(cv2.cvtColor(left, cv2.COLOR_BGR2RGB))\n",
    "plt.show()\n",
    "plt.imshow(cv2.cvtColor(right, cv2.COLOR_BGR2RGB))"
   ]
  },
  {
   "cell_type": "code",
   "execution_count": null,
   "metadata": {},
   "outputs": [],
   "source": [
    "# Convert to grayscale, double, [0, 1] range for easier computation\n",
    "left_gray = cv2.cvtColor(left, cv2.COLOR_BGR2GRAY) / 255.\n",
    "right_gray = cv2.cvtColor(right, cv2.COLOR_BGR2GRAY) / 255.\n",
    "\n",
    "# Define image patch location (topleft [row col]) and size\n",
    "patch_loc = [94, 119]  # Adapted index values to approximate the difference with the original images shapes\n",
    "patch_size = [100, 100]\n",
    "\n",
    "# Extract patch (from left image)\n",
    "patch_left = left_gray[patch_loc[0]:patch_loc[0] + patch_size[0],\n",
    "                       patch_loc[1]:patch_loc[1] + patch_size[1]]\n",
    "plt.imshow(patch_left, cmap='gray')\n",
    "plt.show()\n",
    "\n",
    "# Extract strip (from right image)\n",
    "strip_right = right_gray[patch_loc[0]: patch_loc[0] + patch_size[0], :]\n",
    "plt.imshow(strip_right, cmap='gray')"
   ]
  },
  {
   "cell_type": "code",
   "execution_count": null,
   "metadata": {},
   "outputs": [],
   "source": [
    "# Now look for the patch in the strip and report the best position (column index of topleft corner)\n",
    "\n",
    "# Find best match\n",
    "def find_best_match(patch, strip):\n",
    "    # TODO: Find patch in strip and return column index (x value) of topleft corner\n",
    "    pass\n",
    "\n",
    "\n",
    "best_x = find_best_match(patch_left, strip_right)\n",
    "print (best_x)\n",
    "\n",
    "patch_right = right_gray[patch_loc[0]: patch_loc[0] + patch_size[0],\n",
    "                         best_x: best_x + patch_size[1]]\n",
    "\n"
   ]
  }
 ],
 "metadata": {
  "kernelspec": {
   "display_name": "Python 3",
   "language": "python",
   "name": "python3"
  },
  "language_info": {
   "codemirror_mode": {
    "name": "ipython",
    "version": 3
   },
   "file_extension": ".py",
   "mimetype": "text/x-python",
   "name": "python",
   "nbconvert_exporter": "python",
   "pygments_lexer": "ipython3",
   "version": "3.5.5"
  }
 },
 "nbformat": 4,
 "nbformat_minor": 2
}
