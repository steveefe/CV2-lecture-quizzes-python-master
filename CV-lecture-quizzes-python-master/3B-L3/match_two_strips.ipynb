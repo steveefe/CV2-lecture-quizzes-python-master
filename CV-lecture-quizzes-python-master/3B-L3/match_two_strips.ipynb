{
 "cells": [
  {
   "cell_type": "code",
   "execution_count": null,
   "metadata": {},
   "outputs": [],
   "source": [
    "%matplotlib inline\n",
    "import cv2\n",
    "import numpy as np\n",
    "import matplotlib.pyplot as plt\n",
    "\n",
    "\n",
    "# We will use the function implemented in the last quiz\n",
    "# Find best match\n",
    "def find_best_match(patch, strip):\n",
    "    # TODO: Find patch in strip and return column index (x value) of topleft corner\n",
    "    # Paste your answer from the previous quiz here\n",
    "    pass\n",
    "\n",
    "\n",
    "# Test code:\n",
    "\n",
    "# Load images\n",
    "left = cv2.imread('images/flowers-left.png')\n",
    "right = cv2.imread('images/flowers-right.png')\n",
    "plt.imshow(cv2.cvtColor(left, cv2.COLOR_BGR2RGB))\n",
    "plt.show()\n",
    "plt.imshow(cv2.cvtColor(right, cv2.COLOR_BGR2RGB))\n",
    "plt.show()"
   ]
  },
  {
   "cell_type": "code",
   "execution_count": null,
   "metadata": {},
   "outputs": [],
   "source": [
    "# Convert to grayscale, double, [0, 1] range for easier computation\n",
    "left_gray = cv2.cvtColor(left, cv2.COLOR_BGR2GRAY) / 255.\n",
    "right_gray = cv2.cvtColor(right, cv2.COLOR_BGR2GRAY) / 255.\n",
    "\n",
    "# Define strip row (y) and square block size (b)\n",
    "y = 120\n",
    "b = 100\n",
    "\n",
    "# Extract strip from left image\n",
    "strip_left = left_gray[y: y + b, :]\n",
    "plt.imshow(strip_left, cmap='gray')\n",
    "plt.title('strip left')\n",
    "plt.show()\n",
    "\n",
    "# Extract strip from right image\n",
    "strip_right = right_gray[y: y + b, :]\n",
    "plt.imshow(strip_right, cmap='gray')\n",
    "plt.title('strip right')\n",
    "plt.show()"
   ]
  },
  {
   "cell_type": "code",
   "execution_count": null,
   "metadata": {},
   "outputs": [],
   "source": [
    "def match_strips(strip_left, strip_right, b):\n",
    "    # For each non-overlapping patch/block of width b in the left strip,\n",
    "    # find the best matching position (along X-axis) in the right strip.\n",
    "    # Return a vector of disparities (left X-position - right X-position).\n",
    "    # Note: Only consider whole blocks that fit within image bounds.\n",
    "    pass\n",
    "\n",
    "# Now match these two strips to compute disparity values\n",
    "disparity = match_strips(strip_left, strip_right, b)\n",
    "print (disparity)\n",
    "\n",
    "# Finally we plot the disparity values. Note that there may be some differences\n",
    "# in the results shown in the quiz because we had to adapt the index values.\n",
    "plt.plot(range(disparity.shape[1]), disparity[0])\n",
    "plt.show()"
   ]
  },
  {
   "cell_type": "code",
   "execution_count": null,
   "metadata": {},
   "outputs": [],
   "source": []
  }
 ],
 "metadata": {
  "kernelspec": {
   "display_name": "Python 3",
   "language": "python",
   "name": "python3"
  },
  "language_info": {
   "codemirror_mode": {
    "name": "ipython",
    "version": 3
   },
   "file_extension": ".py",
   "mimetype": "text/x-python",
   "name": "python",
   "nbconvert_exporter": "python",
   "pygments_lexer": "ipython3",
   "version": "3.5.5"
  }
 },
 "nbformat": 4,
 "nbformat_minor": 2
}
