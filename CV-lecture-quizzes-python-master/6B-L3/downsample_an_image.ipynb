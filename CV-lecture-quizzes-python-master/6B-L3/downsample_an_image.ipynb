{
 "cells": [
  {
   "cell_type": "code",
   "execution_count": null,
   "metadata": {},
   "outputs": [],
   "source": [
    "%matplotlib inline\n",
    "import matplotlib.pyplot as plt\n",
    "import cv2\n",
    "\n",
    "\n",
    "img = cv2.imread('images/frizzy.png')\n",
    "plt.imshow(cv2.cvtColor(img, cv2.COLOR_BGR2RGB))\n",
    "plt.title('original image')\n",
    "plt.show()\n",
    "print(img.shape)"
   ]
  },
  {
   "cell_type": "code",
   "execution_count": null,
   "metadata": {},
   "outputs": [],
   "source": [
    "def downsample(img):\n",
    "    # TODO: img_d = ? (pick alternate rows, cols: 1, 3, 5, ...)\n",
    "    pass\n",
    "\n",
    "# downsample image\n",
    "img_d = downsample(img)\n",
    "img_d = downsample(img_d)\n",
    "img_d = downsample(img_d)\n",
    "print(img_d.shape)"
   ]
  },
  {
   "cell_type": "code",
   "execution_count": null,
   "metadata": {},
   "outputs": [],
   "source": [
    "def blur_downsample(img):\n",
    "    # TODO img_bd = ? (blur by 5x5 gaussian, then downsample)\n",
    "    pass\n",
    "\n",
    "# blur and downsample\n",
    "img_bd = blur_downsample(img)\n",
    "img_bd = blur_downsample(img_bd)\n",
    "img_bd = blur_downsample(img_bd)\n",
    "print(img_bd.shape)"
   ]
  },
  {
   "cell_type": "code",
   "execution_count": null,
   "metadata": {},
   "outputs": [],
   "source": [
    "img_d = cv2.resize(img_d, (img.shape[1], img.shape[0]))\n",
    "plt.imshow(cv2.cvtColor(img_d, cv2.COLOR_BGR2RGB))\n",
    "plt.title(\"downsampled_image\")\n",
    "plt.show()\n",
    "\n",
    "img_bd = cv2.resize(img_bd, (img.shape[1], img.shape[0]))\n",
    "plt.imshow(cv2.cvtColor(img_bd, cv2.COLOR_BGR2RGB))\n",
    "plt.title(\"blur_downsampled_image\")\n",
    "plt.show()"
   ]
  }
 ],
 "metadata": {
  "kernelspec": {
   "display_name": "Python 3",
   "language": "python",
   "name": "python3"
  },
  "language_info": {
   "codemirror_mode": {
    "name": "ipython",
    "version": 3
   },
   "file_extension": ".py",
   "mimetype": "text/x-python",
   "name": "python",
   "nbconvert_exporter": "python",
   "pygments_lexer": "ipython3",
   "version": "3.5.5"
  }
 },
 "nbformat": 4,
 "nbformat_minor": 2
}
