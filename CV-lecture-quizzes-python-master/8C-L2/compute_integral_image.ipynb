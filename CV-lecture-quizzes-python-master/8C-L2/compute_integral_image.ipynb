{
 "cells": [
  {
   "cell_type": "code",
   "execution_count": null,
   "metadata": {},
   "outputs": [],
   "source": [
    "%matplotlib inline\n",
    "import matplotlib.pyplot as plt\n",
    "import cv2\n",
    "import numpy as np\n",
    "\n",
    "\n",
    "img = cv2.imread('images/dolphin.png', 0)\n",
    "plt.imshow(cv2.cvtColor(img, cv2.COLOR_BGR2RGB))\n",
    "plt.title('original image')\n",
    "plt.show()\n",
    "print(img.shape)"
   ]
  },
  {
   "cell_type": "code",
   "execution_count": null,
   "metadata": {},
   "outputs": [],
   "source": [
    "def compute_integral(img):\n",
    "    # TODO: Compute I such that I(y,x) = sum of img(1,1) to img(y,x)\n",
    "    pass\n",
    "\n",
    "# compute integral\n",
    "img = np.float64(img)\n",
    "I = compute_integral(img)\n",
    "integral = (I / I.max())\n",
    "plt.imshow(integral, cmap='gray')\n",
    "plt.title('integral image')\n",
    "plt.show()\n",
    "\n",
    "x1 = 150\n",
    "y1 = 100\n",
    "x2 = 350\n",
    "y2 = 200\n",
    "\n",
    "print(\"Sum: \", np.sum(img[y1:y2 + 1, x1:x2 + 1]))\n",
    "print(I[y2, x2] - I[y1 - 1, x2] - I[y2, x1 - 1] + I[y1 - 1, x1 - 1])\n"
   ]
  },
  {
   "cell_type": "code",
   "execution_count": null,
   "metadata": {},
   "outputs": [],
   "source": []
  }
 ],
 "metadata": {
  "kernelspec": {
   "display_name": "Python 3",
   "language": "python",
   "name": "python3"
  },
  "language_info": {
   "codemirror_mode": {
    "name": "ipython",
    "version": 3
   },
   "file_extension": ".py",
   "mimetype": "text/x-python",
   "name": "python",
   "nbconvert_exporter": "python",
   "pygments_lexer": "ipython3",
   "version": "3.5.5"
  }
 },
 "nbformat": 4,
 "nbformat_minor": 2
}
